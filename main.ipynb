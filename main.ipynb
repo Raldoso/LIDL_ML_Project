{
 "cells": [
  {
   "cell_type": "code",
   "execution_count": 1,
   "metadata": {},
   "outputs": [],
   "source": [
    "import numpy as np"
   ]
  },
  {
   "cell_type": "code",
   "execution_count": 2,
   "metadata": {},
   "outputs": [],
   "source": [
    "class Warehouse():\n",
    "    def __init__(self):\n",
    "        self.avg = 40\n",
    "        self.std = 6\n",
    "        self.shops = []\n",
    "    def addShop(self,shop):\n",
    "        self.shops.append(shop)\n",
    "        \n",
    "    def getSample(self):\n",
    "        return np.random.normal(self.avg, self.std, 1)[0]\n",
    "    \n",
    "    def test(self):\n",
    "        sample = self.getSample()\n",
    "        shop_samples = [s.getSample() for s in self.shops]\n",
    "        shop_sum = sum(shop_samples)\n",
    "        supply_samples = []\n",
    "        \n",
    "        for s_sample in shop_samples:\n",
    "           supply_samples.append(sample*(s_sample/shop_sum))\n",
    "        return [abs(w-s) for w, s in zip(supply_samples, shop_samples)]\n",
    "        \n",
    "        \n",
    "class Shop():\n",
    "    def __init__(self,avg,std):\n",
    "        self.avg = avg\n",
    "        self.std = std\n",
    "        \n",
    "    def getSample(self):\n",
    "        return np.random.normal(self.avg, self.std, 1)[0]"
   ]
  },
  {
   "cell_type": "code",
   "execution_count": 3,
   "metadata": {},
   "outputs": [],
   "source": [
    "w = Warehouse()\n",
    "w.addShop(Shop(10,2))\n",
    "w.addShop(Shop(15,3))\n",
    "w.addShop(Shop(40,10))\n",
    "w.addShop(Shop(50,2))\n"
   ]
  },
  {
   "cell_type": "code",
   "execution_count": 4,
   "metadata": {},
   "outputs": [
    {
     "name": "stdout",
     "output_type": "stream",
     "text": [
      "[4.860298901324381, 11.243264685604489, 23.065079611351454, 29.508351954550754]\n"
     ]
    }
   ],
   "source": [
    "print(w.test())"
   ]
  }
 ],
 "metadata": {
  "kernelspec": {
   "display_name": "Python 3.9.13 ('datalyst')",
   "language": "python",
   "name": "python3"
  },
  "language_info": {
   "codemirror_mode": {
    "name": "ipython",
    "version": 3
   },
   "file_extension": ".py",
   "mimetype": "text/x-python",
   "name": "python",
   "nbconvert_exporter": "python",
   "pygments_lexer": "ipython3",
   "version": "3.9.13"
  },
  "orig_nbformat": 4,
  "vscode": {
   "interpreter": {
    "hash": "ef1eb8107d192838fcffb0e6e25a45425c83a1d8a1482a5ed4f2c57ccd3ce21c"
   }
  }
 },
 "nbformat": 4,
 "nbformat_minor": 2
}
