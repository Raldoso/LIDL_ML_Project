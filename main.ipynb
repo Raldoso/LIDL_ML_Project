{
 "cells": [
  {
   "cell_type": "code",
   "execution_count": 97,
   "metadata": {},
   "outputs": [],
   "source": [
    "import numpy as np\n",
    "import pandas as pd\n",
    "import seaborn as sns\n",
    "import matplotlib.pyplot as plt\n",
    "%matplotlib inline"
   ]
  },
  {
   "cell_type": "code",
   "execution_count": 123,
   "metadata": {},
   "outputs": [],
   "source": [
    "class Warehouse():\n",
    "    def __init__(self):\n",
    "        self.shops = []\n",
    "        self.storage = 0\n",
    "        self.log = pd.DataFrame(columns=[\"Day\",\"storeId\",\"itemAge\",\"sumItem\",\"overBuy\"])\n",
    "        self.dayCount = 1\n",
    "    def addShop(self,shop):\n",
    "        self.shops.append(shop)\n",
    "        \n",
    "    def one_day(self):\n",
    "        order_sum = sum([x.ordered_amount for x in self.shops])\n",
    "        if(self.storage >= order_sum):\n",
    "            for shop in self.shops:\n",
    "                shop.one_day(shop.ordered_amount)\n",
    "            self.storage -= order_sum\n",
    "        else:\n",
    "            for shop in self.shops:\n",
    "                shop.one_day(round(self.storage*(shop.ordered_amount/order_sum),0))\n",
    "            self.storage = 0\n",
    "        self.storage = sum([shop.avg for shop in self.shops])\n",
    "        \n",
    "        #LOGGING\n",
    "        for shop in self.shops:\n",
    "            self.log = self.log.append({\n",
    "                \"Day\" : self.dayCount, \n",
    "                \"storeId\" : shop.id, \n",
    "                \"itemAge\" : 0 if shop.storage[-1] == 0 else len(shop.storage),\n",
    "                \"sumItem\" : sum(shop.storage),\n",
    "                \"overBuy\" : -shop.overbuy},\n",
    "                    ignore_index=True)\n",
    "        self.dayCount += 1\n",
    "\n",
    "class Shop():\n",
    "    def __init__(self,avg,std, id):\n",
    "        self.id = id\n",
    "        self.avg = avg\n",
    "        self.std = std\n",
    "        self.overbuy = 0\n",
    "        self.ordered_amount = 0\n",
    "        self.storage = [10]\n",
    "        \n",
    "    def get_sold_amount(self):\n",
    "        return round(np.random.normal(self.avg, self.std, 1)[0],0)\n",
    "    \n",
    "    def update_storage(self):\n",
    "        bought_amount = self.get_sold_amount()\n",
    "        for index in range(len(self.storage)):\n",
    "            bought_amount -= self.storage[index]\n",
    "            if(bought_amount >= 0):\n",
    "                self.storage[index] = 0\n",
    "            else:\n",
    "                self.storage[index] = (-1)*bought_amount\n",
    "                bought_amount = 0\n",
    "                break\n",
    "            \n",
    "        print(bought_amount,end=\" \")\n",
    "        return bought_amount\n",
    "            \n",
    "    def one_day(self,received):\n",
    "        self.storage.insert(0,received) #upadate storage\n",
    "        print(self.storage,end=\" \")\n",
    "        self.overbuy = self.update_storage()\n",
    "        self.ordered_amount = self.avg-sum(self.storage)\n",
    "        if(self.ordered_amount<0):\n",
    "            self.ordered_amount = 0\n",
    "        while(self.storage[-1] == 0 and len(self.storage) > 1):\n",
    "            self.storage.pop()\n",
    "        print(self.storage)\n",
    "        "
   ]
  },
  {
   "cell_type": "code",
   "execution_count": 124,
   "metadata": {},
   "outputs": [],
   "source": [
    "w = Warehouse()\n",
    "w.addShop(Shop(10,5,1))\n"
   ]
  },
  {
   "cell_type": "code",
   "execution_count": null,
   "metadata": {},
   "outputs": [],
   "source": [
    "for _ in range(30):\n",
    "    w.one_day()"
   ]
  },
  {
   "cell_type": "code",
   "execution_count": null,
   "metadata": {},
   "outputs": [],
   "source": [
    "w.log"
   ]
  },
  {
   "cell_type": "code",
   "execution_count": null,
   "metadata": {},
   "outputs": [],
   "source": [
    "ax = w.log[['itemAge', 'overBuy']].plot(kind='bar', figsize=(12, 8), colormap='coolwarm')\n",
    "plt.show()"
   ]
  },
  {
   "cell_type": "code",
   "execution_count": 133,
   "metadata": {},
   "outputs": [
    {
     "data": {
      "image/png": "[encoded data removed]",
      "text/plain": [
       "<Figure size 1080x1080 with 2 Axes>"
      ]
     },
     "metadata": {
      "needs_background": "light"
     },
     "output_type": "display_data"
    }
   ],
   "source": [
    "fig, axes = plt.subplots(2)\n",
    "fig.set_figheight(15)\n",
    "fig.set_figwidth(15)\n",
    "sns.barplot(data=w.log,x=\"Day\",y=\"itemAge\",color=\"green\", ax= axes[0])\n",
    "sns.barplot(data=w.log,x=\"Day\",y=\"overBuy\",color=\"red\", ax= axes[1])\n",
    "sns.barplot(data=w.log,x =\"Day\", y=\"sumItem\",color=\"green\", ax= axes[1])\n",
    "\n",
    "plt.show()"
   ]
  }
 ],
 "metadata": {
  "kernelspec": {
   "display_name": "Python 3.9.12 ('base')",
   "language": "python",
   "name": "python3"
  },
  "language_info": {
   "codemirror_mode": {
    "name": "ipython",
    "version": 3
   },
   "file_extension": ".py",
   "mimetype": "text/x-python",
   "name": "python",
   "nbconvert_exporter": "python",
   "pygments_lexer": "ipython3",
   "version": "3.9.12"
  },
  "orig_nbformat": 4,
  "vscode": {
   "interpreter": {
    "hash": "e950c3f7270fbe7bc9207b308ca9b432f6eae1cef027cc1a5858b4b2c61369d7"
   }
  }
 },
 "nbformat": 4,
 "nbformat_minor": 2
}
