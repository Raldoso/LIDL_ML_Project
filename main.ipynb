{
 "cells": [
  {
   "cell_type": "code",
   "execution_count": 71,
   "metadata": {},
   "outputs": [],
   "source": [
    "import numpy as np"
   ]
  },
  {
   "cell_type": "code",
   "execution_count": 72,
   "metadata": {},
   "outputs": [],
   "source": [
    "class Warehouse():\n",
    "    def __init__(self):\n",
    "        self.shops = []\n",
    "        self.storage = 0\n",
    "    def addShop(self,shop):\n",
    "        self.shops.append(shop)\n",
    "        \n",
    "    def one_day(self):\n",
    "        order_sum = sum([x.ordered_amount for x in self.shops])\n",
    "        if(self.storage >= order_sum):\n",
    "            for shop in self.shops:\n",
    "                shop.one_day(shop.ordered_amount)\n",
    "            self.storage -= order_sum\n",
    "        else:\n",
    "            for shop in self.shops:\n",
    "                shop.one_day(round(self.storage*(shop.ordered_amount/order_sum),0))\n",
    "            self.storage = 0\n",
    "        self.storage = sum([shop.avg for shop in self.shops])\n",
    "\n",
    "class Shop():\n",
    "    def __init__(self,avg,std):\n",
    "        self.avg = avg\n",
    "        self.std = std\n",
    "        self.ordered_amount = 0\n",
    "        self.storages = [10]\n",
    "        \n",
    "    def get_sold_amount(self):\n",
    "        return round(np.random.normal(self.avg, self.std, 1)[0],0)\n",
    "    \n",
    "    def update_storage(self):\n",
    "        bought_amount = self.get_sold_amount()\n",
    "        for index in range(len(self.storages)):\n",
    "            bought_amount -= self.storages[index]\n",
    "            if(bought_amount >= 0):\n",
    "                self.storages[index] = 0\n",
    "            else:\n",
    "                self.storages[index] = (-1)*bought_amount\n",
    "                bought_amount = 0\n",
    "                break\n",
    "        return bought_amount\n",
    "            \n",
    "    def one_day(self,received):\n",
    "        self.storages.insert(0,received) #upadate storage\n",
    "        overbuy = self.update_storage()\n",
    "        self.ordered_amount = self.avg-sum(self.storages)\n",
    "        if(self.ordered_amount<0):\n",
    "            self.ordered_amount = 0\n",
    "        while(self.storages[-1] == 0 and len(self.storages) > 1):\n",
    "            self.storages.pop()\n",
    "        print(received,self.storages,self.ordered_amount,overbuy)\n"
   ]
  },
  {
   "cell_type": "code",
   "execution_count": 73,
   "metadata": {},
   "outputs": [],
   "source": [
    "w = Warehouse()\n",
    "w.addShop(Shop(10,5))"
   ]
  },
  {
   "cell_type": "code",
   "execution_count": 77,
   "metadata": {},
   "outputs": [
    {
     "name": "stdout",
     "output_type": "stream",
     "text": [
      "5.0 [0, 1.0] 9.0 0\n",
      "9.0 [0] 10 1.0\n",
      "10 [0] 10 5.0\n",
      "10 [0] 10 1.0\n",
      "10 [0] 10 8.0\n",
      "10 [0] 10 4.0\n",
      "10 [0] 10 4.0\n",
      "10 [3.0] 7.0 0\n",
      "7.0 [0, 2.0] 8.0 0\n",
      "8.0 [2.0, 0, 2.0] 6.0 0\n"
     ]
    }
   ],
   "source": [
    "for _ in range(10):\n",
    "    w.one_day()"
   ]
  }
 ],
 "metadata": {
  "kernelspec": {
   "display_name": "Python 3.9.13 ('datalyst')",
   "language": "python",
   "name": "python3"
  },
  "language_info": {
   "codemirror_mode": {
    "name": "ipython",
    "version": 3
   },
   "file_extension": ".py",
   "mimetype": "text/x-python",
   "name": "python",
   "nbconvert_exporter": "python",
   "pygments_lexer": "ipython3",
   "version": "3.9.13"
  },
  "orig_nbformat": 4,
  "vscode": {
   "interpreter": {
    "hash": "ef1eb8107d192838fcffb0e6e25a45425c83a1d8a1482a5ed4f2c57ccd3ce21c"
   }
  }
 },
 "nbformat": 4,
 "nbformat_minor": 2
}
